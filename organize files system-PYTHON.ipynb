{
 "cells": [
  {
   "cell_type": "code",
   "execution_count": null,
   "id": "4128e021",
   "metadata": {},
   "outputs": [],
   "source": [
    "import os"
   ]
  },
  {
   "cell_type": "code",
   "execution_count": null,
   "id": "a34ccaf8",
   "metadata": {},
   "outputs": [],
   "source": [
    "path = r\"Enter the path\""
   ]
  },
  {
   "cell_type": "code",
   "execution_count": null,
   "id": "f75e1be8",
   "metadata": {},
   "outputs": [],
   "source": [
    "# To access the path\n",
    "files = os.listdir(path) "
   ]
  },
  {
   "cell_type": "code",
   "execution_count": null,
   "id": "58457748",
   "metadata": {},
   "outputs": [],
   "source": [
    "#empty list to store the files\n",
    "extensions = []                 "
   ]
  },
  {
   "cell_type": "code",
   "execution_count": null,
   "id": "787effae",
   "metadata": {},
   "outputs": [],
   "source": [
    "# Split all file extension from the dir\n",
    "for i in files:                                        \n",
    "    main, extension = os.path.splitext(i)\n",
    "    if extension not in extensions:\n",
    "        extensions.append(extension)"
   ]
  },
  {
   "cell_type": "code",
   "execution_count": null,
   "id": "bd17d96e",
   "metadata": {},
   "outputs": [],
   "source": [
    "print(extensions)"
   ]
  },
  {
   "cell_type": "code",
   "execution_count": null,
   "id": "09d49779",
   "metadata": {},
   "outputs": [],
   "source": [
    "# create all dirs to organise files\n",
    "for i in extensions:\n",
    "    if i :\n",
    "        os.mkdir(os.path.join(path, i))\n",
    "    "
   ]
  },
  {
   "cell_type": "code",
   "execution_count": null,
   "id": "1bf11f24",
   "metadata": {},
   "outputs": [],
   "source": [
    "#create all files to their respective dirs\n",
    "for i in extensions:\n",
    "    main, extension = os.path.splitext(i)\n",
    "    oldpath = os.path.join(path, i)\n",
    "    newpath = os.path.join(path, extension, i)\n",
    "    os.rename(oldpath, newpath)"
   ]
  },
  {
   "cell_type": "code",
   "execution_count": null,
   "id": "9ad21ad8",
   "metadata": {},
   "outputs": [],
   "source": []
  }
 ],
 "metadata": {
  "kernelspec": {
   "display_name": "Python 3 (ipykernel)",
   "language": "python",
   "name": "python3"
  },
  "language_info": {
   "codemirror_mode": {
    "name": "ipython",
    "version": 3
   },
   "file_extension": ".py",
   "mimetype": "text/x-python",
   "name": "python",
   "nbconvert_exporter": "python",
   "pygments_lexer": "ipython3",
   "version": "3.9.7"
  }
 },
 "nbformat": 4,
 "nbformat_minor": 5
}
